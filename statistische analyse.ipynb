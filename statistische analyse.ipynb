{
 "cells": [
  {
   "cell_type": "code",
   "execution_count": 1,
   "metadata": {},
   "outputs": [],
   "source": [
    "import numpy as np\n",
    "import datetime\n",
    "import pandas as pd\n",
    "import matplotlib.pyplot as plt\n",
    "from matplotlib.ticker import MaxNLocator\n",
    "import scipy\n",
    "import scipy.stats"
   ]
  },
  {
   "cell_type": "code",
   "execution_count": 2,
   "metadata": {},
   "outputs": [],
   "source": [
    "worpen_db = open('worpen.txt', 'r')\n",
    "worpen = worpen_db.readlines()\n",
    "\n",
    "aantal_worpen = 0\n",
    "for iworp, worp in enumerate(worpen):\n",
    "    if worp != '\\n':\n",
    "        aantal_worpen += 1\n",
    "\n",
    "alle_worpen = np.zeros((aantal_worpen, 5))\n",
    "for iworp, worp in enumerate(worpen):\n",
    "    if worp != '\\n':\n",
    "        ogen = np.array([oog.rstrip('\\n') for oog in worp.split(';')])\n",
    "        alle_worpen[iworp, :] = ogen\n",
    "        \n",
    "# kunstmatige_worpen = np.random.randint(low=1, high=7, size=alle_worpen.shape)3"
   ]
  },
  {
   "cell_type": "code",
   "execution_count": 3,
   "metadata": {},
   "outputs": [
    {
     "name": "stdout",
     "output_type": "stream",
     "text": [
      "{'yahtzee': 0.0007716049382716049, 'carre': 0.019290123456790122, 'three of a kind': 0.15432098765432098, 'full house': 0.038580246913580245, 'grote straat': 0.030864197530864196, 'kleine straat': 0.12345679012345678, 'brandhout': 0.6327160493827161}\n"
     ]
    }
   ],
   "source": [
    "def combinatie_check(ogen):\n",
    "    assert len(ogen) == 5\n",
    "    ogen = list(ogen)\n",
    "    combinatie = None\n",
    "    if len(np.unique(ogen)) == 1:\n",
    "        combinatie = 'yahtzee' \n",
    "    elif len(np.unique(ogen)) == 2:\n",
    "        for oog in ogen:\n",
    "            if ogen.count(oog) == 4:\n",
    "                combinatie = 'carre'\n",
    "            elif ogen.count(oog) == 3: # of 2\n",
    "                combinatie = 'full house'\n",
    "    elif len(np.unique(ogen)) == 5:\n",
    "        if 1 not in ogen or 6 not in ogen:\n",
    "             combinatie = 'grote straat'\n",
    "    if combinatie is None:\n",
    "        for oog in ogen:\n",
    "            teller = 1\n",
    "            while teller < 4:\n",
    "                if oog + teller in ogen:\n",
    "                    teller += 1\n",
    "                else:\n",
    "                    break\n",
    "            if teller == 4:\n",
    "                combinatie = 'kleine straat'\n",
    "    if combinatie is None:\n",
    "        for oog in ogen:\n",
    "            if ogen.count(oog) == 3:\n",
    "                combinatie = 'three of a kind'\n",
    "    if combinatie is None:\n",
    "        combinatie = 'brandhout'\n",
    "\n",
    "    return combinatie\n",
    "\n",
    "combinatie_kansen = {'yahtzee': 6/7776,\n",
    "                     'carre': 150/7776, # http://datagenetics.com/blog/january42012/index.html\n",
    "                     'three of a kind': 1200/7776,\n",
    "                     'full house': 300/7776,\n",
    "                     'grote straat': 240/7776,\n",
    "                     'kleine straat': 960/7776}  # google\n",
    "tmp = 0\n",
    "for c, p in combinatie_kansen.items():\n",
    "    tmp += p\n",
    "combinatie_kansen['brandhout'] = 1 - tmp\n",
    "print(combinatie_kansen)"
   ]
  },
  {
   "cell_type": "code",
   "execution_count": 4,
   "metadata": {},
   "outputs": [],
   "source": [
    "def bin_toets(N, k, p):\n",
    "    z = ((k - N*p - 0.0) / np.sqrt(N*(1-p)*p))\n",
    "    P = scipy.stats.norm.sf(abs(z)) * 2 # two-sided tail\n",
    "#     print(z, P)\n",
    "    return z, P\n",
    "    "
   ]
  },
  {
   "cell_type": "code",
   "execution_count": 5,
   "metadata": {},
   "outputs": [],
   "source": [
    "combinaties = ['yahtzee', 'carre', 'full house', 'grote straat', 'kleine straat', 'three of a kind',\n",
    "               'brandhout']\n",
    "teller_combinaties_arr = np.zeros(len(combinaties))\n",
    "for ii in range(alle_worpen.shape[0]):\n",
    "#     print([int(oog) for oog in alle_worpen[ii, :]], combinatie_check(alle_worpen[ii, :]))\n",
    "    teller_combinaties_arr[combinaties.index(combinatie_check(alle_worpen[ii, :]))] += 1\n",
    "\n",
    "n_stenen = alle_worpen.size\n",
    "# teller_ogen_dict = {}\n",
    "teller_ogen_arr = np.zeros(6)\n",
    "for i in range(1, 7):\n",
    "#     teller_ogen_dict[i] = np.sum(alle_worpen == i)\n",
    "    teller_ogen_arr[i-1] = np.sum(alle_worpen == i)\n",
    "    z, P = bin_toets(N=n_stenen, k=teller_ogen_arr[i-1], p=1/6)\n",
    "#     print(f'Aantal ogen: {i}, z waarde: {z}), P: {P}')\n",
    "        \n"
   ]
  },
  {
   "cell_type": "code",
   "execution_count": 12,
   "metadata": {},
   "outputs": [
    {
     "data": {
      "image/png": "[encoded data removed]",
      "text/plain": [
       "<Figure size 864x288 with 2 Axes>"
      ]
     },
     "metadata": {
      "needs_background": "light"
     },
     "output_type": "display_data"
    }
   ],
   "source": [
    "\n",
    "plt.rcParams['figure.figsize'] = (12, 4)\n",
    "plt.subplots_adjust(wspace=0.5)\n",
    "\n",
    "ax1 = plt.subplot(121)\n",
    "ax1.plot([0, 7], [n_stenen / 6, n_stenen/6], c='black')\n",
    "ax1.bar(x=np.arange(1, 7), height=teller_ogen_arr, color='#D80A6C', alpha=0.8)\n",
    "plt.xticks(np.arange(1, 7)); plt.xlabel('Ogen');\n",
    "plt.ylabel('Frequentie'); plt.title(f'Totaal aantal stenen: {n_stenen}\\n');\n",
    "ax1.spines['right'].set_visible(False)\n",
    "ax1.spines['top'].set_visible(False)\n",
    "ax1.yaxis.set_major_locator(MaxNLocator(integer=True))\n",
    "ax1.text(s='Nulverdeling', x=7.1, y=(n_stenen/6));\n",
    "for i, v in enumerate(teller_ogen_arr):\n",
    "    ax1.text(i+.7, v+1, str(np.round(bin_toets(N=n_stenen, k=v, p=1/6)[1], 2)))\n",
    "\n",
    "ax2 = plt.subplot(122)\n",
    "ax2.bar(x=combinaties, height=teller_combinaties_arr, color='#D80A6C', alpha=0.8)\n",
    "ax2.bar(x=combinaties, height=[combinatie_kansen[c]*aantal_worpen for c in combinaties], \n",
    "        fill=False, linewidth=2, edgecolor='k')\n",
    "ax2.spines['right'].set_visible(False)\n",
    "ax2.spines['top'].set_visible(False)\n",
    "ax2.set_xticklabels(labels=combinaties, rotation=60);\n",
    "ax2.yaxis.set_major_locator(MaxNLocator(integer=True))\n",
    "plt.ylabel('Frequentie'); plt.xlabel('Combinatie');\n",
    "plt.title(f'Totaal aantal vijfstenige worpen: {alle_worpen.shape[0]}\\n');\n",
    "for c, v in enumerate(teller_combinaties_arr):\n",
    "    comb = combinaties[c]\n",
    "    ax2.text(c-0.3, v+1, str(np.round(bin_toets(N=aantal_worpen, k=v, p=combinatie_kansen[comb])[1], 2)))"
   ]
  }
 ],
 "metadata": {
  "kernelspec": {
   "display_name": "Python 3",
   "language": "python",
   "name": "python3"
  },
  "language_info": {
   "codemirror_mode": {
    "name": "ipython",
    "version": 3
   },
   "file_extension": ".py",
   "mimetype": "text/x-python",
   "name": "python",
   "nbconvert_exporter": "python",
   "pygments_lexer": "ipython3",
   "version": "3.7.0"
  }
 },
 "nbformat": 4,
 "nbformat_minor": 2
}
